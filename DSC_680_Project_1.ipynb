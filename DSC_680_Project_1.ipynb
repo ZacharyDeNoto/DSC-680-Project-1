{
 "cells": [
  {
   "cell_type": "code",
   "execution_count": 1,
   "metadata": {},
   "outputs": [
    {
     "name": "stdout",
     "output_type": "stream",
     "text": [
      "  manufacturer_name model_name transmission   color  odometer_value  \\\n",
      "0            Subaru    Outback    automatic  silver          190000   \n",
      "1            Subaru    Outback    automatic    blue          290000   \n",
      "2            Subaru   Forester    automatic     red          402000   \n",
      "3            Subaru    Impreza   mechanical    blue           10000   \n",
      "4            Subaru     Legacy    automatic   black          280000   \n",
      "\n",
      "   year_produced engine_fuel  engine_has_gas engine_type  engine_capacity  \\\n",
      "0           2010    gasoline           False    gasoline              2.5   \n",
      "1           2002    gasoline           False    gasoline              3.0   \n",
      "2           2001    gasoline           False    gasoline              2.5   \n",
      "3           1999    gasoline           False    gasoline              3.0   \n",
      "4           2001    gasoline           False    gasoline              2.5   \n",
      "\n",
      "   ... feature_1  feature_2 feature_3 feature_4  feature_5  feature_6  \\\n",
      "0  ...      True       True      True     False       True      False   \n",
      "1  ...      True      False     False      True       True      False   \n",
      "2  ...      True      False     False     False      False      False   \n",
      "3  ...     False      False     False     False      False      False   \n",
      "4  ...      True      False      True      True      False      False   \n",
      "\n",
      "  feature_7  feature_8  feature_9  duration_listed  \n",
      "0      True       True       True               16  \n",
      "1     False      False       True               83  \n",
      "2     False       True       True              151  \n",
      "3     False      False      False               86  \n",
      "4     False      False       True                7  \n",
      "\n",
      "[5 rows x 30 columns]\n"
     ]
    }
   ],
   "source": [
    "import pandas as pd\n",
    "from sklearn.preprocessing import LabelEncoder\n",
    "from sklearn.naive_bayes import GaussianNB\n",
    "from sklearn.model_selection import train_test_split\n",
    "from sklearn.metrics import accuracy_score\n",
    "from sklearn.neighbors import KNeighborsClassifier\n",
    "import numpy as np\n",
    "from sklearn.linear_model import Ridge\n",
    "from sklearn.ensemble import AdaBoostClassifier\n",
    "from sklearn.ensemble import GradientBoostingClassifier\n",
    "from sklearn.ensemble import GradientBoostingRegressor\n",
    "from sklearn import metrics\n",
    "from sklearn.ensemble import RandomForestClassifier as RFC\n",
    "from sklearn.linear_model import Ridge\n",
    "from sklearn.ensemble import AdaBoostClassifier\n",
    "from sklearn.ensemble import GradientBoostingClassifier\n",
    "from sklearn.ensemble import GradientBoostingRegressor\n",
    "\n",
    "#imports data from csv file\n",
    "data = pd.read_csv('cars.csv')\n",
    "\n",
    "#puts data into a dataframe and prints it out\n",
    "df = pd.DataFrame(data)\n",
    "print(df.head())"
   ]
  },
  {
   "cell_type": "code",
   "execution_count": 2,
   "metadata": {
    "pycharm": {
     "name": "#%%\n"
    }
   },
   "outputs": [
    {
     "name": "stdout",
     "output_type": "stream",
     "text": [
      "['Subaru' 'LADA' 'Dodge' 'УАЗ' 'Kia' 'Opel' 'Москвич' 'Alfa Romeo' 'Acura'\n",
      " 'Dacia' 'Lexus' 'Mitsubishi' 'Lancia' 'Citroen' 'Mini' 'Jaguar' 'Porsche'\n",
      " 'SsangYong' 'Daewoo' 'Geely' 'ВАЗ' 'Fiat' 'Ford' 'Renault' 'Seat' 'Rover'\n",
      " 'Volkswagen' 'Lifan' 'Jeep' 'Cadillac' 'Audi' 'ЗАЗ' 'Toyota' 'ГАЗ'\n",
      " 'Volvo' 'Chevrolet' 'Great Wall' 'Buick' 'Pontiac' 'Lincoln' 'Hyundai'\n",
      " 'Nissan' 'Suzuki' 'BMW' 'Mazda' 'Land Rover' 'Iveco' 'Skoda' 'Saab'\n",
      " 'Infiniti' 'Chery' 'Honda' 'Mercedes-Benz' 'Peugeot' 'Chrysler']\n",
      "['Subaru' 'LADA' 'Dodge' 'Kia' 'Opel' 'Alfa Romeo' 'Acura' 'Dacia' 'Lexus'\n",
      " 'Mitsubishi' 'Lancia' 'Citroen' 'Mini' 'Jaguar' 'Porsche' 'SsangYong'\n",
      " 'Daewoo' 'Geely' 'Fiat' 'Ford' 'Renault' 'Seat' 'Rover' 'Volkswagen'\n",
      " 'Lifan' 'Jeep' 'Cadillac' 'Audi' 'Toyota' 'Volvo' 'Chevrolet'\n",
      " 'Great Wall' 'Buick' 'Pontiac' 'Lincoln' 'Hyundai' 'Nissan' 'Suzuki'\n",
      " 'BMW' 'Mazda' 'Land Rover' 'Iveco' 'Skoda' 'Saab' 'Infiniti' 'Chery'\n",
      " 'Honda' 'Mercedes-Benz' 'Peugeot' 'Chrysler']\n",
      "  manufacturer_name model_name transmission   color  odometer_miles  \\\n",
      "0            Subaru    Outback    automatic  silver          118060   \n",
      "1            Subaru    Outback    automatic    blue          180197   \n",
      "2            Subaru   Forester    automatic     red          249791   \n",
      "3            Subaru    Impreza   mechanical    blue            6213   \n",
      "4            Subaru     Legacy    automatic   black          173983   \n",
      "\n",
      "   year_produced engine_fuel  engine_has_gas engine_type  engine_capacity  \\\n",
      "0           2010    gasoline           False    gasoline              2.5   \n",
      "1           2002    gasoline           False    gasoline              3.0   \n",
      "2           2001    gasoline           False    gasoline              2.5   \n",
      "3           1999    gasoline           False    gasoline              3.0   \n",
      "4           2001    gasoline           False    gasoline              2.5   \n",
      "\n",
      "   body_type  has_warranty  state drivetrain  price_usd  number_of_photos  \\\n",
      "0  universal         False  owned        all   10900.00                 9   \n",
      "1  universal         False  owned        all    5000.00                12   \n",
      "2        suv         False  owned        all    2800.00                 4   \n",
      "3      sedan         False  owned        all    9999.00                 9   \n",
      "4  universal         False  owned        all    2134.11                14   \n",
      "\n",
      "   up_counter  duration_listed  \n",
      "0          13               16  \n",
      "1          54               83  \n",
      "2          72              151  \n",
      "3          42               86  \n",
      "4           7                7  \n"
     ]
    }
   ],
   "source": [
    "#removes bad columns\n",
    "df = df.drop(columns=['is_exchangeable', 'location_region','feature_0', 'feature_1','feature_2', 'feature_3','feature_4', 'feature_5','feature_6', 'feature_7','feature_8', 'feature_9'])\n",
    "print(df.manufacturer_name.unique())\n",
    "\n",
    "#removes bad manufacturers\n",
    "df = df[df['manufacturer_name'] != 'УАЗ']\n",
    "df = df[df['manufacturer_name'] != 'Москвич']\n",
    "df = df[df['manufacturer_name'] != 'ВАЗ']\n",
    "df = df[df['manufacturer_name'] != 'ЗАЗ']\n",
    "df = df[df['manufacturer_name'] != 'ГАЗ']\n",
    "\n",
    "#converts odometer values from km to miles\n",
    "df['odometer_value'] = (df['odometer_value'] * 0.621371).astype(int)\n",
    "\n",
    "#renames\n",
    "df = df.rename(columns={\"odometer_value\": \"odometer_miles\"})\n",
    "\n",
    "\n",
    "print(df.manufacturer_name.unique())\n",
    "print(df.head())"
   ]
  },
  {
   "cell_type": "code",
   "execution_count": 3,
   "metadata": {
    "pycharm": {
     "name": "#%%\n"
    }
   },
   "outputs": [
    {
     "name": "stdout",
     "output_type": "stream",
     "text": [
      "   manufacturer_name  model_name transmission  color  odometer_miles  \\\n",
      "0                 45          39    automatic      8          118060   \n",
      "1                 45          31    automatic      1          180197   \n",
      "2                 45          30    automatic      7          249791   \n",
      "3                 45          28   mechanical      1            6213   \n",
      "4                 45          30    automatic      0          173983   \n",
      "\n",
      "   year_produced engine_fuel  engine_has_gas engine_type  engine_capacity  \\\n",
      "0             39    gasoline           False    gasoline              2.5   \n",
      "1             31    gasoline           False    gasoline              3.0   \n",
      "2             30    gasoline           False    gasoline              2.5   \n",
      "3             28    gasoline           False    gasoline              3.0   \n",
      "4             30    gasoline           False    gasoline              2.5   \n",
      "\n",
      "   body_type  has_warranty  state drivetrain  price_usd  number_of_photos  \\\n",
      "0  universal         False  owned        all   10900.00                 9   \n",
      "1  universal         False  owned        all    5000.00                12   \n",
      "2        suv         False  owned        all    2800.00                 4   \n",
      "3      sedan         False  owned        all    9999.00                 9   \n",
      "4  universal         False  owned        all    2134.11                14   \n",
      "\n",
      "   up_counter  duration_listed  \n",
      "0          13               16  \n",
      "1          54               83  \n",
      "2          72              151  \n",
      "3          42               86  \n",
      "4           7                7  \n"
     ]
    }
   ],
   "source": [
    "label_encoder = LabelEncoder()\n",
    "df['manufacturer_name'] = label_encoder.fit_transform(df['manufacturer_name'])\n",
    "df['color'] = label_encoder.fit_transform(df['color'])\n",
    "df['year_produced'] = label_encoder.fit_transform(df['year_produced'])\n",
    "df['model_name'] = label_encoder.fit_transform(df['year_produced'])\n",
    "\n",
    "print(df.head())\n"
   ]
  },
  {
   "cell_type": "code",
   "execution_count": 4,
   "metadata": {
    "pycharm": {
     "name": "#%%\n"
    }
   },
   "outputs": [
    {
     "name": "stdout",
     "output_type": "stream",
     "text": [
      "       manufacturer_name  model_name  odometer_miles  year_produced  price_usd\n",
      "0                     45          39          118060             39      10900\n",
      "1                     45          31          180197             31       5000\n",
      "2                     45          30          249791             30       2800\n",
      "3                     45          28            6213             28       9999\n",
      "4                     45          30          173983             30       2134\n",
      "...                  ...         ...             ...            ...        ...\n",
      "38526                  8          29          180197             29       2750\n",
      "38527                  8          33          199460             33       4800\n",
      "38528                  8          29          483399             29       4300\n",
      "38529                  8          30           12427             30       4000\n",
      "38530                  8          29          185000             29       3200\n",
      "\n",
      "[37679 rows x 5 columns]\n",
      "manufacturer_name    int32\n",
      "model_name           int64\n",
      "odometer_miles       int32\n",
      "year_produced        int64\n",
      "price_usd            int32\n",
      "dtype: object\n"
     ]
    }
   ],
   "source": [
    "df_1 = df\n",
    "\n",
    "df_1 = df_1.drop(columns=['color','transmission','engine_fuel', 'engine_has_gas','engine_type', 'engine_capacity','body_type', 'has_warranty','state', 'drivetrain','number_of_photos','up_counter', 'duration_listed'])\n",
    "\n",
    "df_1['price_usd'] = df_1['price_usd'].astype(int)\n",
    "\n",
    "\n",
    "print(df_1)\n",
    "\n",
    "print(df_1.dtypes)"
   ]
  },
  {
   "cell_type": "code",
   "execution_count": 5,
   "metadata": {},
   "outputs": [
    {
     "name": "stdout",
     "output_type": "stream",
     "text": [
      "       manufacturer_name  model_name  odometer_miles  year_produced  price_usd\n",
      "1945                  35          23          119303             23       1000\n",
      "37570                 36          26          214372             26       1825\n",
      "14897                 40          24          260975             24        850\n",
      "27593                  3          28          213751             28       5500\n",
      "19980                  2          40              98             40      11200\n",
      "...                  ...         ...             ...            ...        ...\n",
      "7102                   9          25          236120             25        853\n",
      "7039                   9          29          159070             29       3300\n",
      "24300                  7          41          105239             41       7800\n",
      "34376                 31          28          279616             28       2950\n",
      "13272                 39          32          133594             32       2800\n",
      "\n",
      "[10000 rows x 5 columns]\n"
     ]
    }
   ],
   "source": [
    "df_1 = df_1.sample(n=10000)\n",
    "print(df_1)"
   ]
  },
  {
   "cell_type": "code",
   "execution_count": null,
   "metadata": {},
   "outputs": [],
   "source": []
  },
  {
   "cell_type": "code",
   "execution_count": null,
   "metadata": {},
   "outputs": [],
   "source": []
  },
  {
   "cell_type": "code",
   "execution_count": 6,
   "metadata": {
    "pycharm": {
     "name": "#%%\n"
    }
   },
   "outputs": [],
   "source": [
    "X = df_1.drop(['price_usd'], axis=1)\n",
    "\n",
    "y= df_1.price_usd\n",
    "\n",
    "\n",
    "X_train, X_test, y_train, y_test = train_test_split(X, y, test_size=0.20)  # 80% training and 20% test\n"
   ]
  },
  {
   "cell_type": "code",
   "execution_count": 7,
   "metadata": {},
   "outputs": [
    {
     "name": "stdout",
     "output_type": "stream",
     "text": [
      "0.0215\n",
      "Accuracy within $2000 is 63.55%\n"
     ]
    }
   ],
   "source": [
    "rfc_b = RFC()\n",
    "rfc_b.fit(X_train, y_train)\n",
    "y_pred = rfc_b.predict(X_test)\n",
    "\n",
    "print(accuracy_score(y_test, rfc_b.predict(X_test)))\n",
    "\n",
    "\n",
    "z = pd.DataFrame()\n",
    "z['Actual'] = y_test\n",
    "z['Predicted'] = y_pred\n",
    "z['Difference'] = abs(y_test - y_pred)\n",
    "diff = z['Difference']\n",
    "print('Accuracy within $2000 is ' + str(round(diff[diff <= 2000].count() / z.Difference.count() * 100,2)) + '%')\n"
   ]
  },
  {
   "cell_type": "code",
   "execution_count": 8,
   "metadata": {
    "pycharm": {
     "name": "#%%\n"
    }
   },
   "outputs": [
    {
     "name": "stdout",
     "output_type": "stream",
     "text": [
      "Accuracy within $2000 is 54.8%\n",
      "Naives Bayes Accuracy: 0.0185\n"
     ]
    }
   ],
   "source": [
    "gnb = GaussianNB()\n",
    "gnb.fit(X_train, y_train)\n",
    "\n",
    "y_pred = gnb.predict(X_test)\n",
    "\n",
    "z = pd.DataFrame()\n",
    "z['Actual'] = y_test\n",
    "z['Predicted'] = y_pred\n",
    "z['Difference'] = abs(y_test - y_pred)\n",
    "diff = z['Difference']\n",
    "print('Accuracy within $2000 is ' + str(round(diff[diff <= 2000].count() / z.Difference.count() * 100,2)) + '%')\n",
    "\n",
    "print( \"Naives Bayes Accuracy:\", accuracy_score(y_test, y_pred))\n",
    "\n"
   ]
  },
  {
   "cell_type": "code",
   "execution_count": 9,
   "metadata": {
    "pycharm": {
     "name": "#%%\n"
    }
   },
   "outputs": [
    {
     "name": "stdout",
     "output_type": "stream",
     "text": [
      "Accuracy within $2000 is 46.2%\n",
      "K-NN Test accuracy score: 0.0085\n"
     ]
    }
   ],
   "source": [
    "knn = KNeighborsClassifier()\n",
    "\n",
    "knn.fit(X_train, y_train)\n",
    "\n",
    "y_pred = knn.predict(X_test)\n",
    "\n",
    "\n",
    "z = pd.DataFrame()\n",
    "z['Actual'] = y_test\n",
    "z['Predicted'] = y_pred\n",
    "z['Difference'] = abs(y_test - y_pred)\n",
    "diff = z['Difference']\n",
    "\n",
    "print('Accuracy within $2000 is ' + str(round(diff[diff <= 2000].count() / z.Difference.count() * 100,2)) + '%')\n",
    "\n",
    "print('K-NN Test accuracy score:', accuracy_score(y_test, y_pred))\n",
    "\n",
    "\n"
   ]
  },
  {
   "cell_type": "code",
   "execution_count": 10,
   "metadata": {
    "pycharm": {
     "name": "#%%\n"
    }
   },
   "outputs": [
    {
     "name": "stdout",
     "output_type": "stream",
     "text": [
      "0.0\n",
      "Accuracy within $2000 is 22.95%\n"
     ]
    }
   ],
   "source": [
    "ridge = Ridge()\n",
    "ridge.fit(X_train, y_train)\n",
    "y_pred = ridge.predict(X_test)\n",
    "y_pred = np.asarray([np.argmax(line) for line in y_pred])\n",
    "yp_test = ridge.predict(X_test)\n",
    "test_preds = np.asarray([np.argmax(line) for line in yp_test])\n",
    "\n",
    "print(accuracy_score(y_test, test_preds))\n",
    "\n",
    "\n",
    "z = pd.DataFrame()\n",
    "z['Actual'] = y_test\n",
    "z['Predicted'] = test_preds\n",
    "z['Difference'] = abs(y_test - test_preds)\n",
    "diff = z['Difference']\n",
    "\n",
    "print('Accuracy within $2000 is ' + str(round(diff[diff <= 2000].count() / z.Difference.count() * 100,2)) + '%')\n",
    "\n"
   ]
  },
  {
   "cell_type": "code",
   "execution_count": 11,
   "metadata": {},
   "outputs": [
    {
     "name": "stderr",
     "output_type": "stream",
     "text": [
      "C:\\Users\\Zack\\Anaconda3\\envs\\dsc650\\lib\\site-packages\\xgboost\\sklearn.py:888: UserWarning: The use of label encoder in XGBClassifier is deprecated and will be removed in a future release. To remove this warning, do the following: 1) Pass option use_label_encoder=False when constructing XGBClassifier object; and 2) Encode your labels (y) as integers starting with 0, i.e. 0, 1, 2, ..., [num_class - 1].\n",
      "  warnings.warn(label_encoder_deprecation_msg, UserWarning)\n"
     ]
    },
    {
     "name": "stdout",
     "output_type": "stream",
     "text": [
      "[14:46:17] WARNING: C:/Users/Administrator/workspace/xgboost-win64_release_1.3.0/src/learner.cc:1061: Starting in XGBoost 1.3.0, the default evaluation metric used with the objective 'multi:softprob' was changed from 'merror' to 'mlogloss'. Explicitly set eval_metric if you'd like to restore the old behavior.\n",
      "Accuracy within $2000 is 50.65%\n"
     ]
    }
   ],
   "source": [
    "from xgboost import XGBClassifier\n",
    "\n",
    "\n",
    "model = XGBClassifier()\n",
    "model.fit(X_train, y_train)\n",
    "y_pred = ridge.predict(X_test)\n",
    "\n",
    "#print(accuracy_score(y_test, y_pred))\n",
    "\n",
    "\n",
    "z = pd.DataFrame()\n",
    "z['Actual'] = y_test\n",
    "z['Predicted'] = y_pred\n",
    "z['Difference'] = abs(y_test - y_pred)\n",
    "diff = z['Difference']\n",
    "\n",
    "print('Accuracy within $2000 is ' + str(round(diff[diff <= 2000].count() / z.Difference.count() * 100,2)) + '%')"
   ]
  },
  {
   "cell_type": "code",
   "execution_count": 12,
   "metadata": {},
   "outputs": [
    {
     "name": "stdout",
     "output_type": "stream",
     "text": [
      "0.0275\n",
      "Accuracy within $2000 is 55.8%\n"
     ]
    }
   ],
   "source": [
    "abc = AdaBoostClassifier(n_estimators=500)\n",
    "# Train Adaboost Classifer\n",
    "model = abc.fit(X_train, y_train)\n",
    "\n",
    "# Predict the response for test dataset\n",
    "y_pred = model.predict(X_test)\n",
    "\n",
    "\n",
    "print(metrics.accuracy_score(y_test, y_pred))\n",
    "\n",
    "z = pd.DataFrame()\n",
    "z['Actual'] = y_test\n",
    "z['Predicted'] = y_pred\n",
    "z['Difference'] = abs(y_test - y_pred)\n",
    "diff = z['Difference']\n",
    "\n",
    "print('Accuracy within $2000 is ' + str(round(diff[diff <= 2000].count() / z.Difference.count() * 100,2)) + '%')"
   ]
  },
  {
   "cell_type": "code",
   "execution_count": null,
   "metadata": {},
   "outputs": [],
   "source": []
  },
  {
   "cell_type": "code",
   "execution_count": null,
   "metadata": {},
   "outputs": [],
   "source": []
  },
  {
   "cell_type": "code",
   "execution_count": 47,
   "metadata": {},
   "outputs": [
    {
     "name": "stdout",
     "output_type": "stream",
     "text": [
      "   Unnamed: 0    price  year manufacturer                 model  condition  \\\n",
      "0           1  35990.0  2010    chevrolet  corvette grand sport       good   \n",
      "1           2   7500.0  2014      hyundai                sonata  excellent   \n",
      "2           3   4900.0  2006          bmw               x3 3.0i       good   \n",
      "3           4   2000.0  1974    chevrolet                  c-10       good   \n",
      "4           5  19500.0  2005         ford           f350 lariat  excellent   \n",
      "\n",
      "   odometer transmission  \n",
      "0   32742.0        other  \n",
      "1   93600.0    automatic  \n",
      "2   87046.0    automatic  \n",
      "3  190000.0    automatic  \n",
      "4  116000.0    automatic  \n"
     ]
    }
   ],
   "source": [
    "#imports data from csv file\n",
    "data = pd.read_csv('cars_large_dataset.csv')\n",
    "\n",
    "#puts data into a dataframe and prints it out\n",
    "df = pd.DataFrame(data)\n",
    "print(df.head())"
   ]
  },
  {
   "cell_type": "code",
   "execution_count": 48,
   "metadata": {},
   "outputs": [
    {
     "name": "stdout",
     "output_type": "stream",
     "text": [
      "     price  year manufacturer                 model  condition  odometer  \\\n",
      "0  35990.0  2010    chevrolet  corvette grand sport       good   32742.0   \n",
      "1   7500.0  2014      hyundai                sonata  excellent   93600.0   \n",
      "2   4900.0  2006          bmw               x3 3.0i       good   87046.0   \n",
      "3   2000.0  1974    chevrolet                  c-10       good  190000.0   \n",
      "4  19500.0  2005         ford           f350 lariat  excellent  116000.0   \n",
      "\n",
      "  transmission  \n",
      "0        other  \n",
      "1    automatic  \n",
      "2    automatic  \n",
      "3    automatic  \n",
      "4    automatic  \n"
     ]
    }
   ],
   "source": [
    "df = df.drop(columns=['Unnamed: 0',])\n",
    "print(df.head())\n"
   ]
  },
  {
   "cell_type": "code",
   "execution_count": 49,
   "metadata": {},
   "outputs": [
    {
     "name": "stdout",
     "output_type": "stream",
     "text": [
      "     price  year  manufacturer  model  condition  odometer  transmission\n",
      "0  35990.0  2010             7   9602          2   32742.0             2\n",
      "1   7500.0  2014            17  22871          0   93600.0             0\n",
      "2   4900.0  2006             4  25986          2   87046.0             0\n",
      "3   2000.0  1974             7   7625          2  190000.0             0\n",
      "4  19500.0  2005            13  13614          0  116000.0             0\n"
     ]
    }
   ],
   "source": [
    "label_encoder = LabelEncoder()\n",
    "df['manufacturer'] = label_encoder.fit_transform(df['manufacturer'])\n",
    "df['model'] = label_encoder.fit_transform(df['model'])\n",
    "df['condition'] = label_encoder.fit_transform(df['condition'])\n",
    "df['transmission'] = label_encoder.fit_transform(df['transmission'])\n",
    "\n",
    "print(df.head())\n",
    "\n",
    "df_large = df"
   ]
  },
  {
   "cell_type": "code",
   "execution_count": 50,
   "metadata": {},
   "outputs": [
    {
     "name": "stdout",
     "output_type": "stream",
     "text": [
      "          price  year  manufacturer  model  condition  odometer  transmission\n",
      "134625      0.0  2015             7  11454          6   75002.0             0\n",
      "301509   3980.0  2009            25   2658          6  173920.0             1\n",
      "121982   3500.0  2004            13  12053          0  212364.0             0\n",
      "226355    475.0  2003            17   6183          5  116196.0             0\n",
      "223036    299.0  2004            39   8135          0  147534.0             0\n",
      "...         ...   ...           ...    ...        ...       ...           ...\n",
      "163194  25700.0  2015            20  25809          6  100807.0             0\n",
      "86925   17984.0  2018            21  21459          6   37215.0             0\n",
      "136742      0.0  2019            13  14565          0   42600.0             0\n",
      "152739  37990.0  2012            38  17945          2   40050.0             2\n",
      "367906   4871.0  2006            39  19446          6  173000.0             0\n",
      "\n",
      "[10000 rows x 7 columns]\n"
     ]
    }
   ],
   "source": [
    "df = df.sample(n=10000)\n",
    "print(df)"
   ]
  },
  {
   "cell_type": "code",
   "execution_count": 51,
   "metadata": {},
   "outputs": [],
   "source": [
    "X = df.drop(['price'], axis=1)\n",
    "\n",
    "y= df.price\n",
    "\n",
    "\n",
    "X_train, X_test, y_train, y_test = train_test_split(X, y, test_size=0.20)  # 80% training and 20% test\n"
   ]
  },
  {
   "cell_type": "code",
   "execution_count": 18,
   "metadata": {},
   "outputs": [
    {
     "name": "stdout",
     "output_type": "stream",
     "text": [
      "0.104\n",
      "Accuracy within $2000 is 38.0%\n"
     ]
    }
   ],
   "source": [
    "rfc_b = RFC()\n",
    "rfc_b.fit(X_train, y_train)\n",
    "y_pred = rfc_b.predict(X_test)\n",
    "\n",
    "print(accuracy_score(y_test, rfc_b.predict(X_test)))\n",
    "\n",
    "\n",
    "z = pd.DataFrame()\n",
    "z['Actual'] = y_test\n",
    "z['Predicted'] = y_pred\n",
    "z['Difference'] = abs(y_test - y_pred)\n",
    "diff = z['Difference']\n",
    "print('Accuracy within $2000 is ' + str(round(diff[diff <= 2000].count() / z.Difference.count() * 100,2)) + '%')"
   ]
  },
  {
   "cell_type": "code",
   "execution_count": 19,
   "metadata": {},
   "outputs": [
    {
     "name": "stdout",
     "output_type": "stream",
     "text": [
      "Accuracy within $2000 is 21.3%\n",
      "Naives Bayes Accuracy: 0.044\n"
     ]
    }
   ],
   "source": [
    "gnb = GaussianNB()\n",
    "gnb.fit(X_train, y_train)\n",
    "\n",
    "y_pred = gnb.predict(X_test)\n",
    "\n",
    "z = pd.DataFrame()\n",
    "z['Actual'] = y_test\n",
    "z['Predicted'] = y_pred\n",
    "z['Difference'] = abs(y_test - y_pred)\n",
    "diff = z['Difference']\n",
    "print('Accuracy within $2000 is ' + str(round(diff[diff <= 2000].count() / z.Difference.count() * 100,2)) + '%')\n",
    "\n",
    "print( \"Naives Bayes Accuracy:\", accuracy_score(y_test, y_pred))"
   ]
  },
  {
   "cell_type": "code",
   "execution_count": 20,
   "metadata": {},
   "outputs": [
    {
     "name": "stdout",
     "output_type": "stream",
     "text": [
      "Accuracy within $2000 is 21.35%\n",
      "K-NN Test accuracy score: 0.0425\n"
     ]
    }
   ],
   "source": [
    "knn = KNeighborsClassifier()\n",
    "\n",
    "knn.fit(X_train, y_train)\n",
    "\n",
    "y_pred = knn.predict(X_test)\n",
    "\n",
    "\n",
    "z = pd.DataFrame()\n",
    "z['Actual'] = y_test\n",
    "z['Predicted'] = y_pred\n",
    "z['Difference'] = abs(y_test - y_pred)\n",
    "diff = z['Difference']\n",
    "\n",
    "print('Accuracy within $2000 is ' + str(round(diff[diff <= 2000].count() / z.Difference.count() * 100,2)) + '%')\n",
    "\n",
    "print('K-NN Test accuracy score:', accuracy_score(y_test, y_pred))\n"
   ]
  },
  {
   "cell_type": "code",
   "execution_count": 45,
   "metadata": {},
   "outputs": [
    {
     "name": "stdout",
     "output_type": "stream",
     "text": [
      "0.0705\n",
      "Accuracy within $2000 is 11.9%\n"
     ]
    }
   ],
   "source": [
    "ridge = Ridge()\n",
    "ridge.fit(X_train, y_train)\n",
    "y_pred = ridge.predict(X_test)\n",
    "y_pred = np.asarray([np.argmax(line) for line in y_pred])\n",
    "yp_test = ridge.predict(X_test)\n",
    "test_preds = np.asarray([np.argmax(line) for line in yp_test])\n",
    "\n",
    "print(accuracy_score(y_test, test_preds))\n",
    "\n",
    "\n",
    "z = pd.DataFrame()\n",
    "z['Actual'] = y_test\n",
    "z['Predicted'] = test_preds\n",
    "z['Difference'] = abs(y_test - test_preds)\n",
    "diff = z['Difference']\n",
    "\n",
    "print('Accuracy within $2000 is ' + str(round(diff[diff <= 2000].count() / z.Difference.count() * 100,2)) + '%')"
   ]
  },
  {
   "cell_type": "code",
   "execution_count": 22,
   "metadata": {},
   "outputs": [
    {
     "name": "stderr",
     "output_type": "stream",
     "text": [
      "C:\\Users\\Zack\\Anaconda3\\envs\\dsc650\\lib\\site-packages\\xgboost\\sklearn.py:888: UserWarning: The use of label encoder in XGBClassifier is deprecated and will be removed in a future release. To remove this warning, do the following: 1) Pass option use_label_encoder=False when constructing XGBClassifier object; and 2) Encode your labels (y) as integers starting with 0, i.e. 0, 1, 2, ..., [num_class - 1].\n",
      "  warnings.warn(label_encoder_deprecation_msg, UserWarning)\n"
     ]
    },
    {
     "name": "stdout",
     "output_type": "stream",
     "text": [
      "[15:05:03] WARNING: C:/Users/Administrator/workspace/xgboost-win64_release_1.3.0/src/learner.cc:1061: Starting in XGBoost 1.3.0, the default evaluation metric used with the objective 'multi:softprob' was changed from 'merror' to 'mlogloss'. Explicitly set eval_metric if you'd like to restore the old behavior.\n",
      "Accuracy within $2000 is 16.0%\n"
     ]
    }
   ],
   "source": [
    "from xgboost import XGBClassifier\n",
    "\n",
    "\n",
    "model = XGBClassifier()\n",
    "model.fit(X_train, y_train)\n",
    "y_pred = ridge.predict(X_test)\n",
    "\n",
    "#print(accuracy_score(y_test, y_pred))\n",
    "\n",
    "\n",
    "z = pd.DataFrame()\n",
    "z['Actual'] = y_test\n",
    "z['Predicted'] = y_pred\n",
    "z['Difference'] = abs(y_test - y_pred)\n",
    "diff = z['Difference']\n",
    "\n",
    "print('Accuracy within $2000 is ' + str(round(diff[diff <= 2000].count() / z.Difference.count() * 100,2)) + '%')"
   ]
  },
  {
   "cell_type": "code",
   "execution_count": 52,
   "metadata": {},
   "outputs": [
    {
     "name": "stdout",
     "output_type": "stream",
     "text": [
      "0.0645\n",
      "Accuracy within $2000 is 11.0%\n"
     ]
    }
   ],
   "source": [
    "abc = AdaBoostClassifier(n_estimators=500)\n",
    "# Train Adaboost Classifer\n",
    "model = abc.fit(X_train, y_train)\n",
    "\n",
    "# Predict the response for test dataset\n",
    "y_pred = model.predict(X_test)\n",
    "\n",
    "\n",
    "print(metrics.accuracy_score(y_test, y_pred))\n",
    "\n",
    "z = pd.DataFrame()\n",
    "z['Actual'] = y_test\n",
    "z['Predicted'] = y_pred\n",
    "z['Difference'] = abs(y_test - y_pred)\n",
    "diff = z['Difference']\n",
    "\n",
    "print('Accuracy within $2000 is ' + str(round(diff[diff <= 2000].count() / z.Difference.count() * 100,2)) + '%')"
   ]
  },
  {
   "cell_type": "code",
   "execution_count": null,
   "metadata": {},
   "outputs": [],
   "source": []
  },
  {
   "cell_type": "code",
   "execution_count": null,
   "metadata": {},
   "outputs": [],
   "source": []
  },
  {
   "cell_type": "code",
   "execution_count": 27,
   "metadata": {},
   "outputs": [
    {
     "name": "stdout",
     "output_type": "stream",
     "text": [
      "   Unnamed: 0  price      brand    model  year  mileage   color       state\n",
      "0           1   6300     toyota  cruiser  2008   274117   black  new jersey\n",
      "1           2   2899       ford       se  2011   190552  silver   tennessee\n",
      "2           3   5350      dodge      mpv  2018    39590  silver     georgia\n",
      "3           4  25000       ford     door  2014    64146    blue    virginia\n",
      "4           5  27700  chevrolet     1500  2018     6654     red     florida\n"
     ]
    }
   ],
   "source": [
    "#imports data from csv file\n",
    "data = pd.read_csv('cars_usa_dataset.csv')\n",
    "\n",
    "#puts data into a dataframe and prints it out\n",
    "df = pd.DataFrame(data)\n",
    "print(df.head())"
   ]
  },
  {
   "cell_type": "code",
   "execution_count": 28,
   "metadata": {},
   "outputs": [
    {
     "name": "stdout",
     "output_type": "stream",
     "text": [
      "   price      brand    model  year  mileage   color       state\n",
      "0   6300     toyota  cruiser  2008   274117   black  new jersey\n",
      "1   2899       ford       se  2011   190552  silver   tennessee\n",
      "2   5350      dodge      mpv  2018    39590  silver     georgia\n",
      "3  25000       ford     door  2014    64146    blue    virginia\n",
      "4  27700  chevrolet     1500  2018     6654     red     florida\n"
     ]
    }
   ],
   "source": [
    "df = df.drop(columns=['Unnamed: 0',])\n",
    "print(df.head())"
   ]
  },
  {
   "cell_type": "code",
   "execution_count": 29,
   "metadata": {},
   "outputs": [
    {
     "name": "stdout",
     "output_type": "stream",
     "text": [
      "   price  brand  model  year  mileage  color  state\n",
      "0   6300     27     25  2008   274117      2     24\n",
      "1   2899      8     92  2011   190552     39     35\n",
      "2   5350      7     75  2018    39590     39      7\n",
      "3  25000      8     32  2014    64146      4     39\n",
      "4  27700      5      0  2018     6654     34      6\n"
     ]
    }
   ],
   "source": [
    "label_encoder = LabelEncoder()\n",
    "df['brand'] = label_encoder.fit_transform(df['brand'])\n",
    "df['model'] = label_encoder.fit_transform(df['model'])\n",
    "df['color'] = label_encoder.fit_transform(df['color'])\n",
    "df['state'] = label_encoder.fit_transform(df['state'])\n",
    "\n",
    "\n",
    "print(df.head())\n",
    "\n",
    "df_usa = df"
   ]
  },
  {
   "cell_type": "code",
   "execution_count": null,
   "metadata": {},
   "outputs": [],
   "source": []
  },
  {
   "cell_type": "code",
   "execution_count": 33,
   "metadata": {},
   "outputs": [],
   "source": [
    "X = df.drop(['price'], axis=1)\n",
    "\n",
    "y= df.price\n",
    "\n",
    "\n",
    "X_train, X_test, y_train, y_test = train_test_split(X, y, test_size=0.20)  # 80% training and 20% test\n"
   ]
  },
  {
   "cell_type": "code",
   "execution_count": 34,
   "metadata": {},
   "outputs": [
    {
     "name": "stdout",
     "output_type": "stream",
     "text": [
      "0.0781563126252505\n",
      "Accuracy within $2000 is 43.09%\n"
     ]
    }
   ],
   "source": [
    "rfc_b = RFC()\n",
    "rfc_b.fit(X_train, y_train)\n",
    "y_pred = rfc_b.predict(X_test)\n",
    "\n",
    "print(accuracy_score(y_test, rfc_b.predict(X_test)))\n",
    "\n",
    "\n",
    "z = pd.DataFrame()\n",
    "z['Actual'] = y_test\n",
    "z['Predicted'] = y_pred\n",
    "z['Difference'] = abs(y_test - y_pred)\n",
    "diff = z['Difference']\n",
    "print('Accuracy within $2000 is ' + str(round(diff[diff <= 2000].count() / z.Difference.count() * 100,2)) + '%')"
   ]
  },
  {
   "cell_type": "code",
   "execution_count": 35,
   "metadata": {},
   "outputs": [
    {
     "name": "stdout",
     "output_type": "stream",
     "text": [
      "Accuracy within $2000 is 25.45%\n",
      "Naives Bayes Accuracy: 0.03206412825651302\n"
     ]
    }
   ],
   "source": [
    "gnb = GaussianNB()\n",
    "gnb.fit(X_train, y_train)\n",
    "\n",
    "y_pred = gnb.predict(X_test)\n",
    "\n",
    "z = pd.DataFrame()\n",
    "z['Actual'] = y_test\n",
    "z['Predicted'] = y_pred\n",
    "z['Difference'] = abs(y_test - y_pred)\n",
    "diff = z['Difference']\n",
    "print('Accuracy within $2000 is ' + str(round(diff[diff <= 2000].count() / z.Difference.count() * 100,2)) + '%')\n",
    "\n",
    "print( \"Naives Bayes Accuracy:\", accuracy_score(y_test, y_pred))"
   ]
  },
  {
   "cell_type": "code",
   "execution_count": 36,
   "metadata": {},
   "outputs": [
    {
     "name": "stdout",
     "output_type": "stream",
     "text": [
      "Accuracy within $2000 is 17.43%\n",
      "K-NN Test accuracy score: 0.01603206412825651\n"
     ]
    }
   ],
   "source": [
    "knn = KNeighborsClassifier()\n",
    "\n",
    "knn.fit(X_train, y_train)\n",
    "\n",
    "y_pred = knn.predict(X_test)\n",
    "\n",
    "\n",
    "z = pd.DataFrame()\n",
    "z['Actual'] = y_test\n",
    "z['Predicted'] = y_pred\n",
    "z['Difference'] = abs(y_test - y_pred)\n",
    "diff = z['Difference']\n",
    "\n",
    "print('Accuracy within $2000 is ' + str(round(diff[diff <= 2000].count() / z.Difference.count() * 100,2)) + '%')\n",
    "\n",
    "print('K-NN Test accuracy score:', accuracy_score(y_test, y_pred))"
   ]
  },
  {
   "cell_type": "code",
   "execution_count": 37,
   "metadata": {},
   "outputs": [
    {
     "name": "stdout",
     "output_type": "stream",
     "text": [
      "0.018036072144288578\n",
      "Accuracy within $2000 is 5.41%\n"
     ]
    }
   ],
   "source": [
    "ridge = Ridge()\n",
    "ridge.fit(X_train, y_train)\n",
    "y_pred = ridge.predict(X_test)\n",
    "y_pred = np.asarray([np.argmax(line) for line in y_pred])\n",
    "yp_test = ridge.predict(X_test)\n",
    "test_preds = np.asarray([np.argmax(line) for line in yp_test])\n",
    "\n",
    "print(accuracy_score(y_test, test_preds))\n",
    "\n",
    "\n",
    "z = pd.DataFrame()\n",
    "z['Actual'] = y_test\n",
    "z['Predicted'] = test_preds\n",
    "z['Difference'] = abs(y_test - test_preds)\n",
    "diff = z['Difference']\n",
    "\n",
    "print('Accuracy within $2000 is ' + str(round(diff[diff <= 2000].count() / z.Difference.count() * 100,2)) + '%')"
   ]
  },
  {
   "cell_type": "code",
   "execution_count": 38,
   "metadata": {},
   "outputs": [
    {
     "name": "stderr",
     "output_type": "stream",
     "text": [
      "C:\\Users\\Zack\\Anaconda3\\envs\\dsc650\\lib\\site-packages\\xgboost\\sklearn.py:888: UserWarning: The use of label encoder in XGBClassifier is deprecated and will be removed in a future release. To remove this warning, do the following: 1) Pass option use_label_encoder=False when constructing XGBClassifier object; and 2) Encode your labels (y) as integers starting with 0, i.e. 0, 1, 2, ..., [num_class - 1].\n",
      "  warnings.warn(label_encoder_deprecation_msg, UserWarning)\n"
     ]
    },
    {
     "name": "stdout",
     "output_type": "stream",
     "text": [
      "[18:14:08] WARNING: C:/Users/Administrator/workspace/xgboost-win64_release_1.3.0/src/learner.cc:1061: Starting in XGBoost 1.3.0, the default evaluation metric used with the objective 'multi:softprob' was changed from 'merror' to 'mlogloss'. Explicitly set eval_metric if you'd like to restore the old behavior.\n",
      "Accuracy within $2000 is 18.44%\n"
     ]
    }
   ],
   "source": [
    "from xgboost import XGBClassifier\n",
    "\n",
    "\n",
    "model = XGBClassifier()\n",
    "model.fit(X_train, y_train)\n",
    "y_pred = ridge.predict(X_test)\n",
    "\n",
    "\n",
    "\n",
    "\n",
    "z = pd.DataFrame()\n",
    "z['Actual'] = y_test\n",
    "z['Predicted'] = y_pred\n",
    "z['Difference'] = abs(y_test - y_pred)\n",
    "diff = z['Difference']\n",
    "\n",
    "print('Accuracy within $2000 is ' + str(round(diff[diff <= 2000].count() / z.Difference.count() * 100,2)) + '%')"
   ]
  },
  {
   "cell_type": "code",
   "execution_count": 39,
   "metadata": {},
   "outputs": [
    {
     "name": "stdout",
     "output_type": "stream",
     "text": [
      "0.026052104208416832\n",
      "Accuracy within $2000 is 15.23%\n"
     ]
    }
   ],
   "source": [
    "abc = AdaBoostClassifier(n_estimators=500)\n",
    "# Train Adaboost Classifer\n",
    "model = abc.fit(X_train, y_train)\n",
    "\n",
    "# Predict the response for test dataset\n",
    "y_pred = model.predict(X_test)\n",
    "\n",
    "\n",
    "print(metrics.accuracy_score(y_test, y_pred))\n",
    "\n",
    "z = pd.DataFrame()\n",
    "z['Actual'] = y_test\n",
    "z['Predicted'] = y_pred\n",
    "z['Difference'] = abs(y_test - y_pred)\n",
    "diff = z['Difference']\n",
    "\n",
    "print('Accuracy within $2000 is ' + str(round(diff[diff <= 2000].count() / z.Difference.count() * 100,2)) + '%')"
   ]
  },
  {
   "cell_type": "code",
   "execution_count": null,
   "metadata": {},
   "outputs": [],
   "source": []
  }
 ],
 "metadata": {
  "kernelspec": {
   "display_name": "Python 3",
   "language": "python",
   "name": "python3"
  },
  "language_info": {
   "codemirror_mode": {
    "name": "ipython",
    "version": 3
   },
   "file_extension": ".py",
   "mimetype": "text/x-python",
   "name": "python",
   "nbconvert_exporter": "python",
   "pygments_lexer": "ipython3",
   "version": "3.7.3"
  }
 },
 "nbformat": 4,
 "nbformat_minor": 1
}
